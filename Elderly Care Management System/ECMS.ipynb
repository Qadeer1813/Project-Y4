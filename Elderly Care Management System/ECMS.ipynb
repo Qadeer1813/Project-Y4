{
 "cells": [
  {
   "cell_type": "code",
   "id": "initial_id",
   "metadata": {
    "collapsed": true,
    "ExecuteTime": {
     "end_time": "2024-11-28T23:59:36.210975Z",
     "start_time": "2024-11-28T23:59:36.207625Z"
    }
   },
   "source": "import mysql.connector",
   "outputs": [],
   "execution_count": 8
  },
  {
   "metadata": {
    "ExecuteTime": {
     "end_time": "2024-11-28T23:59:37.032749Z",
     "start_time": "2024-11-28T23:59:36.966824Z"
    }
   },
   "cell_type": "code",
   "source": [
    "conn = mysql.connector.connect(\n",
    "    user='root',\n",
    "    password='Qadeerh03',\n",
    "    host='127.0.0.1',\n",
    "    database='patient',\n",
    "    port=3306\n",
    ")"
   ],
   "id": "86f17bce017dcb83",
   "outputs": [],
   "execution_count": 9
  },
  {
   "metadata": {
    "ExecuteTime": {
     "end_time": "2024-11-28T23:59:37.809603Z",
     "start_time": "2024-11-28T23:59:37.804177Z"
    }
   },
   "cell_type": "code",
   "source": [
    "# Create a cursor object\n",
    "cursor = conn.cursor()"
   ],
   "id": "fd8cdb1b91f925ac",
   "outputs": [],
   "execution_count": 10
  },
  {
   "metadata": {
    "ExecuteTime": {
     "end_time": "2024-11-28T23:59:39.083309Z",
     "start_time": "2024-11-28T23:59:39.079669Z"
    }
   },
   "cell_type": "code",
   "source": [
    "# Query to find all tables in the database\n",
    "query = \"SELECT * FROM patient_data\""
   ],
   "id": "7e035b2ba60373db",
   "outputs": [],
   "execution_count": 11
  },
  {
   "metadata": {
    "ExecuteTime": {
     "end_time": "2024-11-28T23:59:39.983965Z",
     "start_time": "2024-11-28T23:59:39.977837Z"
    }
   },
   "cell_type": "code",
   "source": [
    "cursor.execute(query)\n",
    "results = cursor.fetchall()"
   ],
   "id": "4273f90b542b0001",
   "outputs": [],
   "execution_count": 12
  },
  {
   "metadata": {
    "ExecuteTime": {
     "end_time": "2024-11-28T23:59:40.745152Z",
     "start_time": "2024-11-28T23:59:40.740912Z"
    }
   },
   "cell_type": "code",
   "source": [
    "for row in results:\n",
    "    print(row)"
   ],
   "id": "1dd3d64e92cee623",
   "outputs": [
    {
     "name": "stdout",
     "output_type": "stream",
     "text": [
      "(1, 'Joe', datetime.date(2024, 11, 28), '+353', 'fdeafvesv@gmail.com', 'sq', 'fwAE', 'gvsgvr', 'gsegvesa')\n"
     ]
    }
   ],
   "execution_count": 13
  }
 ],
 "metadata": {
  "kernelspec": {
   "display_name": "Python 3",
   "language": "python",
   "name": "python3"
  },
  "language_info": {
   "codemirror_mode": {
    "name": "ipython",
    "version": 2
   },
   "file_extension": ".py",
   "mimetype": "text/x-python",
   "name": "python",
   "nbconvert_exporter": "python",
   "pygments_lexer": "ipython2",
   "version": "2.7.6"
  }
 },
 "nbformat": 4,
 "nbformat_minor": 5
}
