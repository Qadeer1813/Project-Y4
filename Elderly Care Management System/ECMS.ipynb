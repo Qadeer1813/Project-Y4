{
 "cells": [
  {
   "cell_type": "code",
   "id": "initial_id",
   "metadata": {
    "collapsed": true,
    "ExecuteTime": {
     "end_time": "2024-12-04T00:32:45.678967Z",
     "start_time": "2024-12-04T00:32:45.674214Z"
    }
   },
   "source": "import mysql.connector",
   "outputs": [],
   "execution_count": 45
  },
  {
   "metadata": {
    "ExecuteTime": {
     "end_time": "2024-12-04T00:32:45.752120Z",
     "start_time": "2024-12-04T00:32:45.686549Z"
    }
   },
   "cell_type": "code",
   "source": [
    "conn = mysql.connector.connect(\n",
    "    user='root',\n",
    "    password='Qadeerh03',\n",
    "    host='127.0.0.1',\n",
    "    database='ecms',\n",
    "    port=3306\n",
    ")"
   ],
   "id": "86f17bce017dcb83",
   "outputs": [],
   "execution_count": 46
  },
  {
   "metadata": {
    "ExecuteTime": {
     "end_time": "2024-12-04T00:32:45.765170Z",
     "start_time": "2024-12-04T00:32:45.760865Z"
    }
   },
   "cell_type": "code",
   "source": [
    "# Create a cursor object\n",
    "cursor = conn.cursor()"
   ],
   "id": "fd8cdb1b91f925ac",
   "outputs": [],
   "execution_count": 47
  },
  {
   "metadata": {
    "ExecuteTime": {
     "end_time": "2024-12-04T00:32:45.780116Z",
     "start_time": "2024-12-04T00:32:45.775772Z"
    }
   },
   "cell_type": "code",
   "source": [
    "# Function to format contact numbers\n",
    "def format_contact_number(number):\n",
    "    if number.startswith('0'):\n",
    "        number = '+353' + number[1:]\n",
    "    return number"
   ],
   "id": "1ae698d0a15a266b",
   "outputs": [],
   "execution_count": 48
  },
  {
   "metadata": {
    "ExecuteTime": {
     "end_time": "2024-12-04T00:32:45.794842Z",
     "start_time": "2024-12-04T00:32:45.789147Z"
    }
   },
   "cell_type": "code",
   "source": [
    "# Function to insert to create new patient profile\n",
    "def create_patient(name, dob, contact_number, email_address, home_address, next_of_kin_name, emergency_contact_number, next_of_kin_home_address):\n",
    "    try:\n",
    "        # Format the contact number and the emergency contact number\n",
    "        formatted_contact_number = format_contact_number(contact_number)\n",
    "        formatted_emergency_contact_number = format_contact_number(emergency_contact_number)\n",
    "\n",
    "        # SQL query to insert a new record into the patient_profile table\n",
    "        create_patient_profile = '''\n",
    "        INSERT INTO patient_profile (Name, DOB, Contact_Number, Email_Address, Home_Address, Next_Of_Kin_Name, Emergency_Contact_Number, Next_Of_Kin_Home_Address)\n",
    "        VALUES (%s, %s, %s, %s, %s, %s, %s, %s)\n",
    "        '''\n",
    "        cursor.execute(create_patient_profile, (name, dob, formatted_contact_number, email_address, home_address, next_of_kin_name, formatted_emergency_contact_number, next_of_kin_home_address))\n",
    "        # Commit to the database\n",
    "        conn.commit()\n",
    "        print(\"Patient record created.\")\n",
    "    # If creating the patient fails throw error\n",
    "    except mysql.connector.Error as e:\n",
    "        print(\"Error occurred:\", e)\n",
    "    finally:\n",
    "        cursor.close()\n",
    "        conn.close()"
   ],
   "id": "21a9c643feb7595a",
   "outputs": [],
   "execution_count": 49
  },
  {
   "metadata": {
    "ExecuteTime": {
     "end_time": "2024-12-04T00:32:45.824203Z",
     "start_time": "2024-12-04T00:32:45.812048Z"
    }
   },
   "cell_type": "code",
   "source": [
    "# Dummy Data\n",
    "create_patient(\n",
    "    name='John Doe',\n",
    "    dob='2024-01-01',\n",
    "    contact_number='0123456789',\n",
    "    email_address='johndoe@gmail.com',\n",
    "    home_address='1234 Street Dublin',\n",
    "    next_of_kin_name='Jane Doe',\n",
    "    emergency_contact_number='0987654321',\n",
    "    next_of_kin_home_address='5678 Street Dublin'\n",
    ")"
   ],
   "id": "440e988d36c70fe7",
   "outputs": [
    {
     "name": "stdout",
     "output_type": "stream",
     "text": [
      "Patient record created.\n"
     ]
    }
   ],
   "execution_count": 50
  },
  {
   "metadata": {
    "ExecuteTime": {
     "end_time": "2024-12-04T00:32:45.916668Z",
     "start_time": "2024-12-04T00:32:45.911968Z"
    }
   },
   "cell_type": "code",
   "source": [
    "# # Query to find all tables in the database\n",
    "# query = \"SELECT * FROM patient_data\""
   ],
   "id": "7e035b2ba60373db",
   "outputs": [],
   "execution_count": 51
  },
  {
   "metadata": {
    "ExecuteTime": {
     "end_time": "2024-12-04T00:32:45.944658Z",
     "start_time": "2024-12-04T00:32:45.940642Z"
    }
   },
   "cell_type": "code",
   "source": [
    "# cursor.execute(query)\n",
    "# results = cursor.fetchall()"
   ],
   "id": "4273f90b542b0001",
   "outputs": [],
   "execution_count": 52
  },
  {
   "metadata": {
    "ExecuteTime": {
     "end_time": "2024-12-04T00:32:45.957418Z",
     "start_time": "2024-12-04T00:32:45.953724Z"
    }
   },
   "cell_type": "code",
   "source": [
    "# for row in results:\n",
    "#     print(row)"
   ],
   "id": "1dd3d64e92cee623",
   "outputs": [],
   "execution_count": 53
  }
 ],
 "metadata": {
  "kernelspec": {
   "display_name": "Python 3",
   "language": "python",
   "name": "python3"
  },
  "language_info": {
   "codemirror_mode": {
    "name": "ipython",
    "version": 2
   },
   "file_extension": ".py",
   "mimetype": "text/x-python",
   "name": "python",
   "nbconvert_exporter": "python",
   "pygments_lexer": "ipython2",
   "version": "2.7.6"
  }
 },
 "nbformat": 4,
 "nbformat_minor": 5
}
