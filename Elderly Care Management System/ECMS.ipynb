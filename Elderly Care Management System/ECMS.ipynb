{
 "cells": [
  {
   "metadata": {},
   "cell_type": "code",
   "outputs": [],
   "execution_count": null,
   "source": [
    "# Student Name: Qadeer Hussain\n",
    "# Student ID: C00270632\n",
    "# Patient Profile Functions:\n",
    "# Create\n",
    "# Encrypt\n",
    "# Search\n",
    "# Decrypt\n",
    "# Display"
   ],
   "id": "2d332a8897bf511c"
  },
  {
   "cell_type": "code",
   "id": "initial_id",
   "metadata": {
    "collapsed": true,
    "ExecuteTime": {
     "end_time": "2024-12-04T21:18:39.315436Z",
     "start_time": "2024-12-04T21:18:39.310559Z"
    }
   },
   "source": [
    "import mysql.connector\n",
    "from cryptography.fernet import Fernet"
   ],
   "outputs": [],
   "execution_count": 17
  },
  {
   "metadata": {
    "ExecuteTime": {
     "end_time": "2024-12-04T21:15:35.670503Z",
     "start_time": "2024-12-04T21:15:35.664917Z"
    }
   },
   "cell_type": "code",
   "source": [
    "# Generate and save this key securely\n",
    "key = Fernet.generate_key()\n",
    "cipher_suite = Fernet(key)"
   ],
   "id": "ce2c1fa77874e448",
   "outputs": [],
   "execution_count": 3
  },
  {
   "metadata": {
    "ExecuteTime": {
     "end_time": "2024-12-04T21:15:36.951440Z",
     "start_time": "2024-12-04T21:15:36.944854Z"
    }
   },
   "cell_type": "code",
   "source": [
    "# Load your previously saved key\n",
    "def load_key():\n",
    "    return open('secure.key', 'rb').read()"
   ],
   "id": "8140d857fe8ecb83",
   "outputs": [],
   "execution_count": 4
  },
  {
   "metadata": {
    "ExecuteTime": {
     "end_time": "2024-12-04T21:15:37.683049Z",
     "start_time": "2024-12-04T21:15:37.677885Z"
    }
   },
   "cell_type": "code",
   "source": [
    "# Encrypt the msg using a key, converting the message and returning the encrypted result.\n",
    "def encrypt_message(message, key):\n",
    "    return Fernet(key).encrypt(message.encode())"
   ],
   "id": "cd66ba3f54a1499a",
   "outputs": [],
   "execution_count": 5
  },
  {
   "metadata": {
    "ExecuteTime": {
     "end_time": "2024-12-04T21:15:39.202106Z",
     "start_time": "2024-12-04T21:15:39.192820Z"
    }
   },
   "cell_type": "code",
   "source": [
    "# Key will be stored used later for decryption\n",
    "with open('secure.key', 'wb') as key_file:\n",
    "    key_file.write(key)"
   ],
   "id": "639d3b032459f2ff",
   "outputs": [],
   "execution_count": 6
  },
  {
   "metadata": {
    "ExecuteTime": {
     "end_time": "2024-12-04T21:15:40.425900Z",
     "start_time": "2024-12-04T21:15:40.419345Z"
    }
   },
   "cell_type": "code",
   "source": [
    "# Function to format contact numbers to drop the 0\n",
    "def format_contact_number(number):\n",
    "    if number.startswith('0'):\n",
    "        number = '+353' + number[1:]\n",
    "    return number"
   ],
   "id": "1ae698d0a15a266b",
   "outputs": [],
   "execution_count": 7
  },
  {
   "metadata": {
    "ExecuteTime": {
     "end_time": "2024-12-04T21:15:41.884077Z",
     "start_time": "2024-12-04T21:15:41.872778Z"
    }
   },
   "cell_type": "code",
   "source": [
    "# Function to insert to create new patient profile\n",
    "def create_patient(name, dob, contact_number, email_address, home_address, next_of_kin_name, emergency_contact_number, next_of_kin_home_address, emergency_email_address):\n",
    "    conn = mysql.connector.connect(\n",
    "        user='root',\n",
    "        password='Qadeerh03',\n",
    "        host='127.0.0.1',\n",
    "        database='ecms',\n",
    "        port=3306\n",
    "    )\n",
    "    cursor = conn.cursor()\n",
    "    key = load_key()\n",
    "    try:\n",
    "        # Format the contact number and the emergency contact number\n",
    "        formatted_contact_number = format_contact_number(contact_number)\n",
    "        formatted_emergency_contact_number = format_contact_number(emergency_contact_number)\n",
    "\n",
    "        # Encrypt data such as (Contact Number, Home Address, Email Address, Next of Kin Name, Emergency Contact Number, Next of Kin Home Address\n",
    "        encrypted_contact_number = encrypt_message(formatted_contact_number, key)\n",
    "        encrypted_email_address = encrypt_message(email_address, key)\n",
    "        encrypted_home_address = encrypt_message(home_address, key)\n",
    "        encrypted_next_of_kin_name = encrypt_message(next_of_kin_name, key)\n",
    "        encrypted_emergency_contact_number = encrypt_message(formatted_emergency_contact_number, key)\n",
    "        encrypted_next_of_kin_home_address = encrypt_message(next_of_kin_home_address, key)\n",
    "        encrypted_emergency_email_address = encrypt_message(emergency_email_address, key)\n",
    "\n",
    "        # SQL query to insert a new record into the patient_profile table\n",
    "        create_patient_profile = '''\n",
    "        INSERT INTO patient_profile (Name, DOB, Contact_Number, Email_Address, Home_Address, Next_Of_Kin_Name, Emergency_Contact_Number, Next_Of_Kin_Home_Address, Emergency_Email_Address)\n",
    "        VALUES (%s, %s, %s, %s, %s, %s, %s, %s, %s)\n",
    "        '''\n",
    "        cursor.execute(create_patient_profile, (name, dob, encrypted_contact_number, encrypted_email_address, encrypted_home_address, encrypted_next_of_kin_name, encrypted_emergency_contact_number, encrypted_next_of_kin_home_address, encrypted_emergency_email_address))\n",
    "        # Commit to the database\n",
    "        conn.commit()\n",
    "        print(\"Patient record created.\")\n",
    "    # If creating the patient fails throw error\n",
    "    except mysql.connector.Error as e:\n",
    "        print(\"Error occurred:\", e)\n",
    "    finally:\n",
    "        cursor.close()\n",
    "        conn.close()"
   ],
   "id": "21a9c643feb7595a",
   "outputs": [],
   "execution_count": 8
  },
  {
   "metadata": {
    "ExecuteTime": {
     "end_time": "2024-12-04T21:15:44.259434Z",
     "start_time": "2024-12-04T21:15:44.053603Z"
    }
   },
   "cell_type": "code",
   "source": [
    "# Dummy Data\n",
    "create_patient(\n",
    "    name='John Doe',\n",
    "    dob='2024-01-01',\n",
    "    contact_number='0123456789',\n",
    "    email_address='johndoe@gmail.com',\n",
    "    home_address='1234 Street Dublin',\n",
    "    next_of_kin_name='Jane Doe',\n",
    "    emergency_contact_number='0987654321',\n",
    "    next_of_kin_home_address='5678 Street Dublin',\n",
    "    emergency_email_address='janedoe@gmail.com'\n",
    ")"
   ],
   "id": "440e988d36c70fe7",
   "outputs": [
    {
     "name": "stdout",
     "output_type": "stream",
     "text": [
      "Patient record created.\n"
     ]
    }
   ],
   "execution_count": 9
  },
  {
   "metadata": {
    "ExecuteTime": {
     "end_time": "2024-12-04T21:15:45.565515Z",
     "start_time": "2024-12-04T21:15:45.447611Z"
    }
   },
   "cell_type": "code",
   "source": [
    "# Dummy Data\n",
    "create_patient(\n",
    "    name='Joe Blogs',\n",
    "    dob='2024-12-12',\n",
    "    contact_number='0123456789',\n",
    "    email_address='joeblogs@gmail.com',\n",
    "    home_address='1234 Street Dublin',\n",
    "    next_of_kin_name='Mary Blogs',\n",
    "    emergency_contact_number='0987654321',\n",
    "    next_of_kin_home_address='5678 Street Dublin',\n",
    "    emergency_email_address='maryblogs@gmail.com'\n",
    ")"
   ],
   "id": "1470e63e86042196",
   "outputs": [
    {
     "name": "stdout",
     "output_type": "stream",
     "text": [
      "Patient record created.\n"
     ]
    }
   ],
   "execution_count": 10
  },
  {
   "metadata": {
    "ExecuteTime": {
     "end_time": "2024-12-04T21:15:47.226751Z",
     "start_time": "2024-12-04T21:15:47.130768Z"
    }
   },
   "cell_type": "code",
   "source": [
    "# Dummy Data\n",
    "create_patient(\n",
    "    name='Joe Blogs',\n",
    "    dob='2023-01-01',\n",
    "    contact_number='0987654321',\n",
    "    email_address='joeblogs@gmail.com',\n",
    "    home_address='5678 Street Dublin',\n",
    "    next_of_kin_name='Mary Blogs',\n",
    "    emergency_contact_number='0123456789',\n",
    "    next_of_kin_home_address='1234 Street Dublin',\n",
    "    emergency_email_address='maryblogs@gmail.com'\n",
    ")"
   ],
   "id": "6e158e71dda553d1",
   "outputs": [
    {
     "name": "stdout",
     "output_type": "stream",
     "text": [
      "Patient record created.\n"
     ]
    }
   ],
   "execution_count": 11
  },
  {
   "metadata": {
    "ExecuteTime": {
     "end_time": "2024-12-04T22:46:27.093500Z",
     "start_time": "2024-12-04T22:46:27.086558Z"
    }
   },
   "cell_type": "code",
   "source": [
    "def search_patient(name=None, dob=None):\n",
    "    conn = mysql.connector.connect(\n",
    "        user='root',\n",
    "        password='Qadeerh03',\n",
    "        host='127.0.0.1',\n",
    "        database='ecms',\n",
    "        port=3306\n",
    "    )\n",
    "    cursor = conn.cursor()\n",
    "\n",
    "    query = \"SELECT Name, DOB, Contact_Number, Email_Address, Home_Address, Next_Of_Kin_Name, Emergency_Contact_Number, Next_Of_Kin_Home_Address, Emergency_Email_Address FROM patient_profile WHERE \"\n",
    "    params = []\n",
    "\n",
    "    # If a name is provided append it to the query\n",
    "    if name:\n",
    "        query += \"Name = %s\"\n",
    "        params.append(name)\n",
    "    # If a date of birth (DOB) is provided append it to the query\n",
    "    if dob:\n",
    "        if name:\n",
    "            query += \" AND \"\n",
    "        query += \"DOB = %s\"\n",
    "        params.append(dob)\n",
    "\n",
    "    cursor.execute(query, params)\n",
    "    results = cursor.fetchall()\n",
    "\n",
    "    cursor.close()\n",
    "    conn.close()\n",
    "\n",
    "    return results"
   ],
   "id": "6c9e027aa5e97cdf",
   "outputs": [],
   "execution_count": 33
  },
  {
   "metadata": {
    "ExecuteTime": {
     "end_time": "2024-12-04T22:46:30.065483Z",
     "start_time": "2024-12-04T22:46:30.061706Z"
    }
   },
   "cell_type": "code",
   "source": [
    "# This decrypts the encrypted messages which is the patient data\n",
    "def decrypt_message(encrypted_message, key):\n",
    "    return Fernet(key).decrypt(encrypted_message).decode()"
   ],
   "id": "24a5d71fb06c4da7",
   "outputs": [],
   "execution_count": 34
  },
  {
   "metadata": {
    "ExecuteTime": {
     "end_time": "2024-12-04T22:46:31.349585Z",
     "start_time": "2024-12-04T22:46:31.342964Z"
    }
   },
   "cell_type": "code",
   "source": [
    "# This decrypts selected fields of encrypted patient data rows and returns them in readable form by looping through them.\n",
    "def decrypt_patient_data(patient_data, key):\n",
    "    decrypted_patient_data = []\n",
    "    for data in patient_data:\n",
    "        decrypted_row = [decrypt_message(column, key) if i > 1 else column for i, column in enumerate(data)]\n",
    "        decrypted_patient_data.append(decrypted_row)\n",
    "    return decrypted_patient_data"
   ],
   "id": "1c9b1de060207bb",
   "outputs": [],
   "execution_count": 35
  },
  {
   "metadata": {
    "ExecuteTime": {
     "end_time": "2024-12-04T22:47:07.295949Z",
     "start_time": "2024-12-04T22:46:52.478977Z"
    }
   },
   "cell_type": "code",
   "source": [
    "def display_patient_info():\n",
    "    # User input for name and/or date of birth\n",
    "    name = input(\"Enter patient's name: \").strip()\n",
    "    dob = input(\"Enter patient's date of birth YYYY-MM-DD (press enter if unknown): \").strip()\n",
    "\n",
    "    patient_data = search_patient(name, dob)\n",
    "\n",
    "    # If no patient was found print the following statement\n",
    "    if not patient_data:\n",
    "        print(\"No patient found.\")\n",
    "        return\n",
    "\n",
    "    key = load_key()\n",
    "    # Decrypt the patient data using the loaded key\n",
    "    decrypted_patient_data = decrypt_patient_data(patient_data, key)\n",
    "\n",
    "    # Loop through each decrypted patient data and print them out\n",
    "    for row in decrypted_patient_data:\n",
    "        print(\"Name:\", row[0])\n",
    "        print(\"DOB:\", row[1])\n",
    "        print(\"Contact Number:\", row[2])\n",
    "        print(\"Email Address:\", row[3])\n",
    "        print(\"Home Address:\", row[4])\n",
    "        print(\"Next Of Kin Name:\", row[5])\n",
    "        print(\"Emergency Contact Number:\", row[6])\n",
    "        print(\"Next Of Kin Home Address:\", row[7])\n",
    "        print(\"Emergency Email Address:\", row[8])\n",
    "        print(\"\")\n",
    "\n",
    "display_patient_info()"
   ],
   "id": "3da36154591df5d0",
   "outputs": [
    {
     "name": "stdout",
     "output_type": "stream",
     "text": [
      "Name: John Doe\n",
      "DOB: 2024-01-01\n",
      "Contact Number: +353123456789\n",
      "Email Address: johndoe@gmail.com\n",
      "Home Address: 1234 Street Dublin\n",
      "Next Of Kin Name: Jane Doe\n",
      "Emergency Contact Number: +353987654321\n",
      "Next Of Kin Home Address: 5678 Street Dublin\n",
      "Emergency Email Address: janedoe@gmail.com\n",
      "\n"
     ]
    }
   ],
   "execution_count": 37
  },
  {
   "metadata": {},
   "cell_type": "code",
   "source": "",
   "id": "e45212b303b02f74",
   "outputs": [],
   "execution_count": null
  }
 ],
 "metadata": {
  "kernelspec": {
   "display_name": "Python 3",
   "language": "python",
   "name": "python3"
  },
  "language_info": {
   "codemirror_mode": {
    "name": "ipython",
    "version": 2
   },
   "file_extension": ".py",
   "mimetype": "text/x-python",
   "name": "python",
   "nbconvert_exporter": "python",
   "pygments_lexer": "ipython2",
   "version": "2.7.6"
  }
 },
 "nbformat": 4,
 "nbformat_minor": 5
}
