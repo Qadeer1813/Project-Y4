{
 "cells": [
  {
   "cell_type": "code",
   "id": "initial_id",
   "metadata": {
    "collapsed": true,
    "ExecuteTime": {
     "end_time": "2024-12-04T15:30:32.198696Z",
     "start_time": "2024-12-04T15:30:32.193273Z"
    }
   },
   "source": [
    "import mysql.connector\n",
    "from cryptography.fernet import Fernet"
   ],
   "outputs": [],
   "execution_count": 39
  },
  {
   "metadata": {
    "ExecuteTime": {
     "end_time": "2024-12-04T15:30:33.308695Z",
     "start_time": "2024-12-04T15:30:33.238479Z"
    }
   },
   "cell_type": "code",
   "source": [
    "conn = mysql.connector.connect(\n",
    "    user='root',\n",
    "    password='Qadeerh03',\n",
    "    host='127.0.0.1',\n",
    "    database='ecms',\n",
    "    port=3306\n",
    ")"
   ],
   "id": "86f17bce017dcb83",
   "outputs": [],
   "execution_count": 40
  },
  {
   "metadata": {
    "ExecuteTime": {
     "end_time": "2024-12-04T15:30:34.562745Z",
     "start_time": "2024-12-04T15:30:34.558219Z"
    }
   },
   "cell_type": "code",
   "source": [
    "# Generate and save this key securely\n",
    "key = Fernet.generate_key()\n",
    "cipher_suite = Fernet(key)"
   ],
   "id": "ce2c1fa77874e448",
   "outputs": [],
   "execution_count": 41
  },
  {
   "metadata": {
    "ExecuteTime": {
     "end_time": "2024-12-04T15:30:35.734015Z",
     "start_time": "2024-12-04T15:30:35.729972Z"
    }
   },
   "cell_type": "code",
   "source": [
    "# Load your previously saved key\n",
    "def load_key():\n",
    "    return open('secure.key', 'rb').read()"
   ],
   "id": "8140d857fe8ecb83",
   "outputs": [],
   "execution_count": 42
  },
  {
   "metadata": {
    "ExecuteTime": {
     "end_time": "2024-12-04T15:30:37.358789Z",
     "start_time": "2024-12-04T15:30:37.351399Z"
    }
   },
   "cell_type": "code",
   "source": [
    "# Encrypt the msg\n",
    "def encrypt_message(message, key):\n",
    "    return Fernet(key).encrypt(message.encode())"
   ],
   "id": "cd66ba3f54a1499a",
   "outputs": [],
   "execution_count": 43
  },
  {
   "metadata": {
    "ExecuteTime": {
     "end_time": "2024-12-04T15:30:38.189488Z",
     "start_time": "2024-12-04T15:30:38.184688Z"
    }
   },
   "cell_type": "code",
   "source": [
    "# Key will stored used later for decryption\n",
    "with open('secure.key', 'wb') as key_file:\n",
    "    key_file.write(key)"
   ],
   "id": "639d3b032459f2ff",
   "outputs": [],
   "execution_count": 44
  },
  {
   "metadata": {
    "ExecuteTime": {
     "end_time": "2024-12-04T15:30:39.142150Z",
     "start_time": "2024-12-04T15:30:39.138634Z"
    }
   },
   "cell_type": "code",
   "source": [
    "# Create a cursor object\n",
    "cursor = conn.cursor()"
   ],
   "id": "fd8cdb1b91f925ac",
   "outputs": [],
   "execution_count": 45
  },
  {
   "metadata": {
    "ExecuteTime": {
     "end_time": "2024-12-04T15:30:39.873723Z",
     "start_time": "2024-12-04T15:30:39.869025Z"
    }
   },
   "cell_type": "code",
   "source": [
    "# Function to format contact numbers\n",
    "def format_contact_number(number):\n",
    "    if number.startswith('0'):\n",
    "        number = '+353' + number[1:]\n",
    "    return number"
   ],
   "id": "1ae698d0a15a266b",
   "outputs": [],
   "execution_count": 46
  },
  {
   "metadata": {
    "ExecuteTime": {
     "end_time": "2024-12-04T15:30:41.069972Z",
     "start_time": "2024-12-04T15:30:41.063859Z"
    }
   },
   "cell_type": "code",
   "source": [
    "# Function to insert to create new patient profile\n",
    "def create_patient(name, dob, contact_number, email_address, home_address, next_of_kin_name, emergency_contact_number, next_of_kin_home_address, emergency_email_address):\n",
    "    key = load_key()\n",
    "    try:\n",
    "        # Format the contact number and the emergency contact number\n",
    "        formatted_contact_number = format_contact_number(contact_number)\n",
    "        formatted_emergency_contact_number = format_contact_number(emergency_contact_number)\n",
    "\n",
    "        # Encrypt data such as (Contact Number, Home Address, Email Address, Next of Kin Name, Emergency Contact Number, Next of Kin Home Address\n",
    "        encrypted_contact_number = encrypt_message(formatted_contact_number, key)\n",
    "        encrypted_email_address = encrypt_message(email_address, key)\n",
    "        encrypted_home_address = encrypt_message(home_address, key)\n",
    "        encrypted_next_of_kin_name = encrypt_message(next_of_kin_name, key)\n",
    "        encrypted_emergency_contact_number = encrypt_message(formatted_emergency_contact_number, key)\n",
    "        encrypted_next_of_kin_home_address = encrypt_message(next_of_kin_home_address, key)\n",
    "        encrypted_emergency_email_address = encrypt_message(emergency_email_address, key)\n",
    "\n",
    "        # SQL query to insert a new record into the patient_profile table\n",
    "        create_patient_profile = '''\n",
    "        INSERT INTO patient_profile (Name, DOB, Contact_Number, Email_Address, Home_Address, Next_Of_Kin_Name, Emergency_Contact_Number, Next_Of_Kin_Home_Address, Emergency_Email_Address)\n",
    "        VALUES (%s, %s, %s, %s, %s, %s, %s, %s, %s)\n",
    "        '''\n",
    "        cursor.execute(create_patient_profile, (name, dob, encrypted_contact_number, encrypted_email_address, encrypted_home_address, encrypted_next_of_kin_name, encrypted_emergency_contact_number, encrypted_next_of_kin_home_address, encrypted_emergency_email_address))\n",
    "        # Commit to the database\n",
    "        conn.commit()\n",
    "        print(\"Patient record created.\")\n",
    "    # If creating the patient fails throw error\n",
    "    except mysql.connector.Error as e:\n",
    "        print(\"Error occurred:\", e)\n",
    "    finally:\n",
    "        cursor.close()\n",
    "        conn.close()"
   ],
   "id": "21a9c643feb7595a",
   "outputs": [],
   "execution_count": 47
  },
  {
   "metadata": {
    "ExecuteTime": {
     "end_time": "2024-12-04T15:30:42.721444Z",
     "start_time": "2024-12-04T15:30:42.704456Z"
    }
   },
   "cell_type": "code",
   "source": [
    "# Dummy Data\n",
    "create_patient(\n",
    "    name='John Doe',\n",
    "    dob='2024-01-01',\n",
    "    contact_number='0123456789',\n",
    "    email_address='johndoe@gmail.com',\n",
    "    home_address='1234 Street Dublin',\n",
    "    next_of_kin_name='Jane Doe',\n",
    "    emergency_contact_number='0987654321',\n",
    "    next_of_kin_home_address='5678 Street Dublin',\n",
    "    emergency_email_address='janedoe@gmail.com'\n",
    ")"
   ],
   "id": "440e988d36c70fe7",
   "outputs": [
    {
     "name": "stdout",
     "output_type": "stream",
     "text": [
      "Patient record created.\n"
     ]
    }
   ],
   "execution_count": 48
  }
 ],
 "metadata": {
  "kernelspec": {
   "display_name": "Python 3",
   "language": "python",
   "name": "python3"
  },
  "language_info": {
   "codemirror_mode": {
    "name": "ipython",
    "version": 2
   },
   "file_extension": ".py",
   "mimetype": "text/x-python",
   "name": "python",
   "nbconvert_exporter": "python",
   "pygments_lexer": "ipython2",
   "version": "2.7.6"
  }
 },
 "nbformat": 4,
 "nbformat_minor": 5
}
